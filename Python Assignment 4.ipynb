{
 "cells": [
  {
   "cell_type": "code",
   "execution_count": 15,
   "metadata": {},
   "outputs": [
    {
     "name": "stdout",
     "output_type": "stream",
     "text": [
      "a=5\n",
      "b=6\n",
      "c=8\n",
      "Area of the Triangle is : 14.981238266578634\n"
     ]
    }
   ],
   "source": [
    "#1.1 Area of the Triangle\n",
    "class sides:\n",
    "    def __init__(self,a,b,c):\n",
    "        self.a = float(a)\n",
    "        self.b = float(b)\n",
    "        self.c = float(c)\n",
    "        self.area=0\n",
    "a= input(\"a=\")\n",
    "b= input(\"b=\")\n",
    "c= input(\"c=\")\n",
    "\n",
    "class triangle(sides):\n",
    "    def __init__(self, a, b, c):\n",
    "        super().__init__(a, b, c)\n",
    "\n",
    "    def area_triangle(self):\n",
    "        s = (self.a + self.b + self.c) / 2\n",
    "        return  float((s * (s - self.a) * (s - self.b) * (s - self.c))) ** 0.5        \n",
    "\n",
    "t = triangle(a,b,c)\n",
    "print(\"Area of the Triangle is : {}\".format(t.area_triangle()))"
   ]
  },
  {
   "cell_type": "code",
   "execution_count": null,
   "metadata": {},
   "outputs": [],
   "source": []
  },
  {
   "cell_type": "code",
   "execution_count": 31,
   "metadata": {},
   "outputs": [
    {
     "name": "stdout",
     "output_type": "stream",
     "text": [
      "Please enter a statement:this is a test to split the larger words in a sentence and filter out them\n",
      "Please enter a number: 3\n",
      "The list of numbers greate than the given number are:  ['this', 'test', 'split', 'larger', 'words', 'sentence', 'filter', 'them']\n"
     ]
    }
   ],
   "source": [
    "#1.2 Filter Long functions\n",
    "def filter_long_words(string, number):\n",
    "    return [word for word in string if len(word) > number]\n",
    "    listwords= []\n",
    "    for i in range(len(string)):\n",
    "        \n",
    "        if len(string[i])> number:\n",
    "            listwords.append(string[i])\n",
    "    return listwords\n",
    "    \n",
    "def test():\n",
    "    words= input('Please enter a statement:').split()\n",
    "    integer=int(input('Please enter a number: '))\n",
    "    \n",
    "    test_long_words = filter_long_words(words, integer)\n",
    "    print('The list of numbers greate than the given number are: ',test_long_words)\n",
    "                \n",
    "test()\n",
    "        "
   ]
  },
  {
   "cell_type": "code",
   "execution_count": null,
   "metadata": {},
   "outputs": [],
   "source": []
  },
  {
   "cell_type": "code",
   "execution_count": 49,
   "metadata": {},
   "outputs": [
    {
     "name": "stdout",
     "output_type": "stream",
     "text": [
      "List of Words: ab cde erty\n",
      "List of wordlength:[2, 3, 4]\n"
     ]
    }
   ],
   "source": [
    "#2.1 Mapping list of words into list of integers\n",
    "list_of_words = input('List of Words: ').split()#(['ab', 'cde', 'erty']) \n",
    "list_of_integers = []\n",
    " \n",
    "for i in range(len(list_of_words)):\n",
    "    list_of_integers.append(len(list_of_words[i]))\n",
    "    \n",
    "print (\"List of wordlength:\"+str(list_of_integers))"
   ]
  },
  {
   "cell_type": "code",
   "execution_count": null,
   "metadata": {},
   "outputs": [],
   "source": []
  },
  {
   "cell_type": "code",
   "execution_count": 78,
   "metadata": {},
   "outputs": [
    {
     "name": "stdout",
     "output_type": "stream",
     "text": [
      "Please enter single letter: O\n",
      "True\n"
     ]
    }
   ],
   "source": [
    "#2.2 Python function which takes a character (i.e. a string of length 1) and returns True if\n",
    "it is a vowel, False otherwise.\n",
    "def is_vowel(char):\n",
    "    all_vowels = 'aeiouAEIOU'\n",
    "    return char in all_vowels\n",
    "word = str(input('Please enter single letter: '))\n",
    "print(is_vowel(word))"
   ]
  },
  {
   "cell_type": "code",
   "execution_count": null,
   "metadata": {},
   "outputs": [],
   "source": []
  }
 ],
 "metadata": {
  "kernelspec": {
   "display_name": "Python 3",
   "language": "python",
   "name": "python3"
  },
  "language_info": {
   "codemirror_mode": {
    "name": "ipython",
    "version": 3
   },
   "file_extension": ".py",
   "mimetype": "text/x-python",
   "name": "python",
   "nbconvert_exporter": "python",
   "pygments_lexer": "ipython3",
   "version": "3.7.4"
  }
 },
 "nbformat": 4,
 "nbformat_minor": 2
}
